{
 "cells": [
  {
   "cell_type": "code",
   "execution_count": 2,
   "id": "728a9f87",
   "metadata": {},
   "outputs": [
    {
     "name": "stdout",
     "output_type": "stream",
     "text": [
      "3\n"
     ]
    }
   ],
   "source": [
    "a = input()"
   ]
  },
  {
   "cell_type": "code",
   "execution_count": 3,
   "id": "100a0d2e",
   "metadata": {},
   "outputs": [
    {
     "name": "stdout",
     "output_type": "stream",
     "text": [
      "3\n"
     ]
    }
   ],
   "source": [
    "print(a)"
   ]
  },
  {
   "cell_type": "code",
   "execution_count": 4,
   "id": "98924c9d",
   "metadata": {},
   "outputs": [
    {
     "name": "stdout",
     "output_type": "stream",
     "text": [
      "<class 'str'>\n"
     ]
    }
   ],
   "source": [
    "print(type(a))"
   ]
  },
  {
   "cell_type": "code",
   "execution_count": 5,
   "id": "f8de694f",
   "metadata": {},
   "outputs": [],
   "source": [
    "a = int(a)"
   ]
  },
  {
   "cell_type": "code",
   "execution_count": 6,
   "id": "69fa9e0d",
   "metadata": {},
   "outputs": [
    {
     "name": "stdout",
     "output_type": "stream",
     "text": [
      "<class 'int'>\n"
     ]
    }
   ],
   "source": [
    "print(type(a))"
   ]
  },
  {
   "cell_type": "code",
   "execution_count": 8,
   "id": "f5d1ccc2",
   "metadata": {},
   "outputs": [],
   "source": [
    "a += a"
   ]
  },
  {
   "cell_type": "code",
   "execution_count": 9,
   "id": "e64f702c",
   "metadata": {},
   "outputs": [
    {
     "name": "stdout",
     "output_type": "stream",
     "text": [
      "8\n"
     ]
    }
   ],
   "source": [
    "print(a)"
   ]
  },
  {
   "cell_type": "code",
   "execution_count": 10,
   "id": "f8a0472e",
   "metadata": {},
   "outputs": [
    {
     "name": "stdout",
     "output_type": "stream",
     "text": [
      "5\n"
     ]
    }
   ],
   "source": [
    "b = input()"
   ]
  },
  {
   "cell_type": "code",
   "execution_count": 11,
   "id": "4401b8c8",
   "metadata": {},
   "outputs": [],
   "source": [
    "b = b + b"
   ]
  },
  {
   "cell_type": "code",
   "execution_count": 12,
   "id": "74f1ef22",
   "metadata": {},
   "outputs": [
    {
     "name": "stdout",
     "output_type": "stream",
     "text": [
      "55\n"
     ]
    }
   ],
   "source": [
    "print(b)"
   ]
  },
  {
   "cell_type": "code",
   "execution_count": 13,
   "id": "89b9f1ee",
   "metadata": {},
   "outputs": [
    {
     "name": "stdout",
     "output_type": "stream",
     "text": [
      "3.4\n"
     ]
    }
   ],
   "source": [
    "c = float(input())"
   ]
  },
  {
   "cell_type": "code",
   "execution_count": 15,
   "id": "4eea91bd",
   "metadata": {},
   "outputs": [],
   "source": [
    "flag = True"
   ]
  },
  {
   "cell_type": "code",
   "execution_count": 16,
   "id": "3ed84e7d",
   "metadata": {},
   "outputs": [
    {
     "name": "stdout",
     "output_type": "stream",
     "text": [
      "<class 'bool'>\n"
     ]
    }
   ],
   "source": [
    "print(type(flag))"
   ]
  },
  {
   "cell_type": "code",
   "execution_count": 17,
   "id": "36c2bdca",
   "metadata": {},
   "outputs": [],
   "source": [
    "l = [0,1,1,2,3,4]"
   ]
  },
  {
   "cell_type": "code",
   "execution_count": 18,
   "id": "79a7a291",
   "metadata": {},
   "outputs": [],
   "source": [
    "l.append(5)"
   ]
  },
  {
   "cell_type": "code",
   "execution_count": 19,
   "id": "0de21532",
   "metadata": {},
   "outputs": [
    {
     "name": "stdout",
     "output_type": "stream",
     "text": [
      "[0, 1, 1, 2, 3, 4, 5]\n"
     ]
    }
   ],
   "source": [
    "print(l)"
   ]
  },
  {
   "cell_type": "code",
   "execution_count": 20,
   "id": "1412803f",
   "metadata": {},
   "outputs": [
    {
     "name": "stdout",
     "output_type": "stream",
     "text": [
      "[1, 2]\n"
     ]
    }
   ],
   "source": [
    "print(l[2:4])"
   ]
  },
  {
   "cell_type": "code",
   "execution_count": 24,
   "id": "d9e06606",
   "metadata": {},
   "outputs": [
    {
     "name": "stdout",
     "output_type": "stream",
     "text": [
      "[3, 4, 5]\n"
     ]
    }
   ],
   "source": [
    "print(l[-3:])"
   ]
  },
  {
   "cell_type": "code",
   "execution_count": 25,
   "id": "552674ec",
   "metadata": {},
   "outputs": [],
   "source": [
    "s = set()"
   ]
  },
  {
   "cell_type": "code",
   "execution_count": 26,
   "id": "c7f66db9",
   "metadata": {},
   "outputs": [],
   "source": [
    "s = set(l)"
   ]
  },
  {
   "cell_type": "code",
   "execution_count": 27,
   "id": "148d6a0e",
   "metadata": {},
   "outputs": [
    {
     "name": "stdout",
     "output_type": "stream",
     "text": [
      "{0, 1, 2, 3, 4, 5}\n"
     ]
    }
   ],
   "source": [
    "print(s)"
   ]
  },
  {
   "cell_type": "code",
   "execution_count": 28,
   "id": "1abbf009",
   "metadata": {},
   "outputs": [
    {
     "name": "stdout",
     "output_type": "stream",
     "text": [
      "7\n"
     ]
    }
   ],
   "source": [
    "print(len(l))"
   ]
  },
  {
   "cell_type": "code",
   "execution_count": 29,
   "id": "b0c724b8",
   "metadata": {},
   "outputs": [
    {
     "name": "stdout",
     "output_type": "stream",
     "text": [
      "6\n"
     ]
    }
   ],
   "source": [
    "print(len(s))"
   ]
  },
  {
   "cell_type": "code",
   "execution_count": 30,
   "id": "19a52c85",
   "metadata": {},
   "outputs": [],
   "source": [
    "l[3] = 1"
   ]
  },
  {
   "cell_type": "code",
   "execution_count": 31,
   "id": "6e85d841",
   "metadata": {},
   "outputs": [
    {
     "name": "stdout",
     "output_type": "stream",
     "text": [
      "[0, 1, 1, 1, 3, 4, 5]\n"
     ]
    }
   ],
   "source": [
    "print(l)"
   ]
  },
  {
   "cell_type": "code",
   "execution_count": 34,
   "id": "3cdfb5e3",
   "metadata": {},
   "outputs": [],
   "source": [
    "s = set(l)"
   ]
  },
  {
   "cell_type": "code",
   "execution_count": 35,
   "id": "d7783db6",
   "metadata": {},
   "outputs": [
    {
     "name": "stdout",
     "output_type": "stream",
     "text": [
      "{0, 1, 3, 4, 5}\n"
     ]
    }
   ],
   "source": [
    "print(s)"
   ]
  },
  {
   "cell_type": "code",
   "execution_count": 36,
   "id": "a11045c3",
   "metadata": {},
   "outputs": [],
   "source": [
    "l2 = list(s)"
   ]
  },
  {
   "cell_type": "code",
   "execution_count": 37,
   "id": "f1dfc3a8",
   "metadata": {},
   "outputs": [
    {
     "name": "stdout",
     "output_type": "stream",
     "text": [
      "[0, 1, 3, 4, 5]\n"
     ]
    }
   ],
   "source": [
    "print(l2)"
   ]
  },
  {
   "cell_type": "code",
   "execution_count": 38,
   "id": "bac46f4d",
   "metadata": {},
   "outputs": [
    {
     "name": "stdout",
     "output_type": "stream",
     "text": [
      "есть неуникальные значения в исходном наборе данных. Их количество:  2\n"
     ]
    }
   ],
   "source": [
    "if len(l2) < len(l):\n",
    "    print('есть неуникальные значения в исходном наборе данных. Их количество: ', len(l) - len(l2))\n",
    "    #\n",
    "    #\n",
    "    #\n",
    "    #\n",
    "    #"
   ]
  },
  {
   "cell_type": "code",
   "execution_count": 40,
   "id": "3b9427cf",
   "metadata": {},
   "outputs": [
    {
     "name": "stdout",
     "output_type": "stream",
     "text": [
      "есть такой\n"
     ]
    }
   ],
   "source": [
    "val = 3\n",
    "if val in l:\n",
    "    print('есть такой')\n",
    "else:\n",
    "    print('нет такого. добавляем в исходный список')\n",
    "    l.append(val)"
   ]
  },
  {
   "cell_type": "code",
   "execution_count": 41,
   "id": "7bceb022",
   "metadata": {},
   "outputs": [
    {
     "name": "stdout",
     "output_type": "stream",
     "text": [
      "есть такой\n"
     ]
    }
   ],
   "source": [
    "val = 1\n",
    "if val in l:\n",
    "    print('есть такой')\n",
    "else:\n",
    "    print('нет такого. добавляем в исходный список')\n",
    "    l.append(val)"
   ]
  },
  {
   "cell_type": "code",
   "execution_count": 42,
   "id": "91100198",
   "metadata": {},
   "outputs": [
    {
     "name": "stdout",
     "output_type": "stream",
     "text": [
      "нет такого. добавляем в исходный список\n",
      "[0, 1, 1, 1, 3, 4, 5, 10]\n"
     ]
    }
   ],
   "source": [
    "val = 10\n",
    "if val in l:\n",
    "    print('есть такой')\n",
    "else:\n",
    "    print('нет такого. добавляем в исходный список')\n",
    "    l.append(val)\n",
    "print(l)"
   ]
  },
  {
   "cell_type": "code",
   "execution_count": 43,
   "id": "76072380",
   "metadata": {},
   "outputs": [
    {
     "name": "stdout",
     "output_type": "stream",
     "text": [
      "нет такого. добавляем в исходный список\n",
      "[0, 1, 1, 1, 3, 4, 5, 10, 6]\n"
     ]
    }
   ],
   "source": [
    "val = 6\n",
    "if val in l:\n",
    "    print('есть такой')\n",
    "else:\n",
    "    print('нет такого. добавляем в исходный список')\n",
    "    l.append(val)\n",
    "print(l)"
   ]
  },
  {
   "cell_type": "code",
   "execution_count": 45,
   "id": "b0a624da",
   "metadata": {},
   "outputs": [],
   "source": [
    "l.sort()"
   ]
  },
  {
   "cell_type": "code",
   "execution_count": 46,
   "id": "1ac12bbd",
   "metadata": {},
   "outputs": [
    {
     "name": "stdout",
     "output_type": "stream",
     "text": [
      "[0, 1, 1, 1, 3, 4, 5, 6, 10]\n"
     ]
    }
   ],
   "source": [
    "print(l)"
   ]
  },
  {
   "cell_type": "code",
   "execution_count": 49,
   "id": "7368c150",
   "metadata": {},
   "outputs": [
    {
     "name": "stdout",
     "output_type": "stream",
     "text": [
      "0\n",
      "1\n",
      "1\n",
      "1\n",
      "3\n",
      "4\n",
      "5\n",
      "6\n",
      "10\n"
     ]
    }
   ],
   "source": [
    "for v in l:\n",
    "    print(v)"
   ]
  },
  {
   "cell_type": "code",
   "execution_count": 53,
   "id": "eab2ba3c",
   "metadata": {},
   "outputs": [
    {
     "name": "stdout",
     "output_type": "stream",
     "text": [
      "[0, 1, 8, 27, 192, 500, 1080, 2058, 5120]\n"
     ]
    }
   ],
   "source": [
    "for i in range(len(l)):\n",
    "    l[i] *= i\n",
    "print(l)"
   ]
  },
  {
   "cell_type": "code",
   "execution_count": 54,
   "id": "6c2f08f8",
   "metadata": {},
   "outputs": [
    {
     "name": "stdout",
     "output_type": "stream",
     "text": [
      "[500, 501, 508, 527, 692, 1000, 1080, 2058, 5120]\n"
     ]
    }
   ],
   "source": [
    "for i in range(len(l)):\n",
    "    if(l[i] < 1000):\n",
    "        l[i] += 500\n",
    "print(l)"
   ]
  },
  {
   "cell_type": "code",
   "execution_count": 55,
   "id": "ef5a76be",
   "metadata": {},
   "outputs": [
    {
     "name": "stdout",
     "output_type": "stream",
     "text": [
      "local_sum  500\n",
      "local_sum  1001\n",
      "local_sum  1509\n",
      "local_sum  2036\n",
      "local_sum  2728\n",
      "local_sum  3728\n",
      "local_sum  4808\n",
      "local_sum  6866\n",
      "local_sum  11986\n",
      "total sum  11986\n"
     ]
    }
   ],
   "source": [
    "l_sum = 0\n",
    "for i in range(len(l)):\n",
    "    l_sum += l[i]\n",
    "    print('local_sum ', l_sum)\n",
    "    \n",
    "print('total sum ', l_sum)\n",
    "\n",
    "    \n"
   ]
  },
  {
   "cell_type": "code",
   "execution_count": 56,
   "id": "f7758cf1",
   "metadata": {},
   "outputs": [
    {
     "data": {
      "text/plain": [
       "11986"
      ]
     },
     "execution_count": 56,
     "metadata": {},
     "output_type": "execute_result"
    }
   ],
   "source": [
    "sum(l)"
   ]
  },
  {
   "cell_type": "code",
   "execution_count": 57,
   "id": "da8cc911",
   "metadata": {},
   "outputs": [],
   "source": [
    "l_mean = l_sum / len(l)"
   ]
  },
  {
   "cell_type": "code",
   "execution_count": 58,
   "id": "a01a516a",
   "metadata": {},
   "outputs": [
    {
     "name": "stdout",
     "output_type": "stream",
     "text": [
      "1331.7777777777778\n"
     ]
    }
   ],
   "source": [
    "print(l_mean)"
   ]
  },
  {
   "cell_type": "code",
   "execution_count": 59,
   "id": "ea31df2f",
   "metadata": {},
   "outputs": [
    {
     "name": "stdout",
     "output_type": "stream",
     "text": [
      "[500, 501, 508, 527, 692, 1000, 1080, 2058, 5120]\n"
     ]
    }
   ],
   "source": [
    "print(l)"
   ]
  },
  {
   "cell_type": "code",
   "execution_count": 60,
   "id": "7d8b4f24",
   "metadata": {},
   "outputs": [],
   "source": [
    "l.sort()"
   ]
  },
  {
   "cell_type": "code",
   "execution_count": 62,
   "id": "c8b69b21",
   "metadata": {},
   "outputs": [],
   "source": [
    "l_median = l[len(l)//2]"
   ]
  },
  {
   "cell_type": "code",
   "execution_count": 63,
   "id": "f26ccfaf",
   "metadata": {},
   "outputs": [
    {
     "name": "stdout",
     "output_type": "stream",
     "text": [
      "692\n"
     ]
    }
   ],
   "source": [
    "print(l_median)"
   ]
  },
  {
   "cell_type": "code",
   "execution_count": 64,
   "id": "047f3a28",
   "metadata": {},
   "outputs": [
    {
     "name": "stdout",
     "output_type": "stream",
     "text": [
      "4\n"
     ]
    }
   ],
   "source": [
    "print(len(l)//2)"
   ]
  },
  {
   "cell_type": "code",
   "execution_count": 65,
   "id": "0f2d5e73",
   "metadata": {},
   "outputs": [],
   "source": [
    "l_vals = list(set(l))"
   ]
  },
  {
   "cell_type": "code",
   "execution_count": 66,
   "id": "e3c52dfb",
   "metadata": {},
   "outputs": [
    {
     "data": {
      "text/plain": [
       "[5120, 1000, 2058, 527, 692, 500, 501, 1080, 508]"
      ]
     },
     "execution_count": 66,
     "metadata": {},
     "output_type": "execute_result"
    }
   ],
   "source": [
    "l_vals"
   ]
  },
  {
   "cell_type": "code",
   "execution_count": 68,
   "id": "3b169dbf",
   "metadata": {},
   "outputs": [],
   "source": [
    "l_hist = [0 for i in range(len(l_vals))]"
   ]
  },
  {
   "cell_type": "code",
   "execution_count": 69,
   "id": "e0814a99",
   "metadata": {},
   "outputs": [
    {
     "name": "stdout",
     "output_type": "stream",
     "text": [
      "[0, 0, 0, 0, 0, 0, 0, 0, 0] 9\n"
     ]
    }
   ],
   "source": [
    "print(l_hist, len(l_hist))"
   ]
  },
  {
   "cell_type": "code",
   "execution_count": 70,
   "id": "959f7dd3",
   "metadata": {},
   "outputs": [],
   "source": [
    "# l\n",
    "# l_vals\n",
    "# l_hist\n",
    "for i in range(len(l_vals)):\n",
    "    for t in l:\n",
    "        if(t == l_vals[i]):\n",
    "            l_hist[i] += 1\n",
    "        "
   ]
  },
  {
   "cell_type": "code",
   "execution_count": 71,
   "id": "05fd613e",
   "metadata": {},
   "outputs": [
    {
     "name": "stdout",
     "output_type": "stream",
     "text": [
      "[1, 1, 1, 1, 1, 1, 1, 1, 1]\n"
     ]
    }
   ],
   "source": [
    "print(l_hist)"
   ]
  },
  {
   "cell_type": "code",
   "execution_count": 74,
   "id": "5aa75833",
   "metadata": {},
   "outputs": [],
   "source": [
    "l_hist_n = [v / len(l) for v in l_hist]"
   ]
  },
  {
   "cell_type": "code",
   "execution_count": 75,
   "id": "bff8220d",
   "metadata": {},
   "outputs": [
    {
     "data": {
      "text/plain": [
       "[0.1111111111111111,\n",
       " 0.1111111111111111,\n",
       " 0.1111111111111111,\n",
       " 0.1111111111111111,\n",
       " 0.1111111111111111,\n",
       " 0.1111111111111111,\n",
       " 0.1111111111111111,\n",
       " 0.1111111111111111,\n",
       " 0.1111111111111111]"
      ]
     },
     "execution_count": 75,
     "metadata": {},
     "output_type": "execute_result"
    }
   ],
   "source": [
    "l_hist_n"
   ]
  },
  {
   "cell_type": "code",
   "execution_count": 78,
   "id": "b0a9633e",
   "metadata": {},
   "outputs": [],
   "source": [
    "less1000_max = l[0]\n",
    "for v in l:\n",
    "    if(v < 1000 and v > less1000_max):\n",
    "        less1000_max = v"
   ]
  },
  {
   "cell_type": "code",
   "execution_count": 79,
   "id": "a240fe8c",
   "metadata": {},
   "outputs": [
    {
     "name": "stdout",
     "output_type": "stream",
     "text": [
      "692\n"
     ]
    }
   ],
   "source": [
    "print(less1000_max)"
   ]
  },
  {
   "cell_type": "code",
   "execution_count": 80,
   "id": "c09b1262",
   "metadata": {},
   "outputs": [
    {
     "data": {
      "text/plain": [
       "5120"
      ]
     },
     "execution_count": 80,
     "metadata": {},
     "output_type": "execute_result"
    }
   ],
   "source": [
    "max(l)"
   ]
  },
  {
   "cell_type": "code",
   "execution_count": 82,
   "id": "758d9be8",
   "metadata": {},
   "outputs": [],
   "source": [
    "import numpy as np\n"
   ]
  },
  {
   "cell_type": "code",
   "execution_count": 83,
   "id": "160c7619",
   "metadata": {},
   "outputs": [],
   "source": [
    "np_l = np.array(l)"
   ]
  },
  {
   "cell_type": "code",
   "execution_count": 84,
   "id": "5f1405b6",
   "metadata": {},
   "outputs": [
    {
     "name": "stdout",
     "output_type": "stream",
     "text": [
      "<class 'numpy.ndarray'>\n"
     ]
    }
   ],
   "source": [
    "print(type(np_l))"
   ]
  },
  {
   "cell_type": "code",
   "execution_count": 85,
   "id": "03b33fd5",
   "metadata": {},
   "outputs": [
    {
     "name": "stdout",
     "output_type": "stream",
     "text": [
      "[ 500  501  508  527  692 1000 1080 2058 5120]\n"
     ]
    }
   ],
   "source": [
    "print(np_l)"
   ]
  },
  {
   "cell_type": "code",
   "execution_count": 86,
   "id": "065c8480",
   "metadata": {},
   "outputs": [
    {
     "name": "stdout",
     "output_type": "stream",
     "text": [
      "1000\n"
     ]
    }
   ],
   "source": [
    "print(np_l[5])"
   ]
  },
  {
   "cell_type": "code",
   "execution_count": 87,
   "id": "292b3af1",
   "metadata": {},
   "outputs": [
    {
     "data": {
      "text/plain": [
       "5120"
      ]
     },
     "execution_count": 87,
     "metadata": {},
     "output_type": "execute_result"
    }
   ],
   "source": [
    "np_l.max()"
   ]
  },
  {
   "cell_type": "code",
   "execution_count": 88,
   "id": "69261708",
   "metadata": {},
   "outputs": [
    {
     "data": {
      "text/plain": [
       "8"
      ]
     },
     "execution_count": 88,
     "metadata": {},
     "output_type": "execute_result"
    }
   ],
   "source": [
    "np_l.argmax()"
   ]
  },
  {
   "cell_type": "code",
   "execution_count": 97,
   "id": "84093411",
   "metadata": {},
   "outputs": [],
   "source": [
    "def calc_hist_list(a):\n",
    "    a_vals = list(set(a))\n",
    "    a_hist = [0 for v in a_vals]\n",
    "    \n",
    "    for i in range(len(a_vals)):\n",
    "        for t in a:\n",
    "            if(t == a_vals[i]):\n",
    "                a_hist[i] += 1\n",
    "    return a_hist, a_vals"
   ]
  },
  {
   "cell_type": "code",
   "execution_count": 90,
   "id": "f3b0d8e0",
   "metadata": {},
   "outputs": [],
   "source": [
    "l2 = [i % 7 for i in range(100)]"
   ]
  },
  {
   "cell_type": "code",
   "execution_count": 91,
   "id": "76286556",
   "metadata": {},
   "outputs": [
    {
     "name": "stdout",
     "output_type": "stream",
     "text": [
      "[0, 1, 2, 3, 4, 5, 6, 0, 1, 2, 3, 4, 5, 6, 0, 1, 2, 3, 4, 5, 6, 0, 1, 2, 3, 4, 5, 6, 0, 1, 2, 3, 4, 5, 6, 0, 1, 2, 3, 4, 5, 6, 0, 1, 2, 3, 4, 5, 6, 0, 1, 2, 3, 4, 5, 6, 0, 1, 2, 3, 4, 5, 6, 0, 1, 2, 3, 4, 5, 6, 0, 1, 2, 3, 4, 5, 6, 0, 1, 2, 3, 4, 5, 6, 0, 1, 2, 3, 4, 5, 6, 0, 1, 2, 3, 4, 5, 6, 0, 1]\n"
     ]
    }
   ],
   "source": [
    "print(l2)"
   ]
  },
  {
   "cell_type": "code",
   "execution_count": 92,
   "id": "02f638ac",
   "metadata": {},
   "outputs": [
    {
     "name": "stdout",
     "output_type": "stream",
     "text": [
      "[15, 15, 14, 14, 14, 14, 14]\n"
     ]
    }
   ],
   "source": [
    "print(calc_hist_list(l2))"
   ]
  },
  {
   "cell_type": "code",
   "execution_count": 93,
   "id": "340f7362",
   "metadata": {},
   "outputs": [],
   "source": [
    "l2_hist = calc_hist_list(l2)"
   ]
  },
  {
   "cell_type": "code",
   "execution_count": 94,
   "id": "8b631471",
   "metadata": {},
   "outputs": [
    {
     "name": "stdout",
     "output_type": "stream",
     "text": [
      "[15, 15, 14, 14, 14, 14, 14]\n"
     ]
    }
   ],
   "source": [
    "print(l2_hist)"
   ]
  },
  {
   "cell_type": "code",
   "execution_count": 98,
   "id": "31276165",
   "metadata": {},
   "outputs": [],
   "source": [
    "l2_hist = calc_hist_list(l2)"
   ]
  },
  {
   "cell_type": "code",
   "execution_count": 99,
   "id": "5b0c51ec",
   "metadata": {},
   "outputs": [
    {
     "name": "stdout",
     "output_type": "stream",
     "text": [
      "([15, 15, 14, 14, 14, 14, 14], [0, 1, 2, 3, 4, 5, 6])\n"
     ]
    }
   ],
   "source": [
    "print(l2_hist)"
   ]
  },
  {
   "cell_type": "code",
   "execution_count": 100,
   "id": "b6c2215e",
   "metadata": {},
   "outputs": [],
   "source": [
    "l2_hist, l2_unique = calc_hist_list(l2)"
   ]
  },
  {
   "cell_type": "code",
   "execution_count": 101,
   "id": "86d73ca8",
   "metadata": {},
   "outputs": [
    {
     "name": "stdout",
     "output_type": "stream",
     "text": [
      "[15, 15, 14, 14, 14, 14, 14]\n",
      "[0, 1, 2, 3, 4, 5, 6]\n"
     ]
    }
   ],
   "source": [
    "print(l2_hist)\n",
    "print(l2_unique)"
   ]
  },
  {
   "cell_type": "code",
   "execution_count": 102,
   "id": "266cf846",
   "metadata": {},
   "outputs": [],
   "source": [
    "l2_hist, _ = calc_hist_list(l2)"
   ]
  },
  {
   "cell_type": "code",
   "execution_count": 103,
   "id": "6976b7c1",
   "metadata": {},
   "outputs": [
    {
     "name": "stdout",
     "output_type": "stream",
     "text": [
      "[15, 15, 14, 14, 14, 14, 14]\n"
     ]
    }
   ],
   "source": [
    "print(l2_hist)"
   ]
  },
  {
   "cell_type": "code",
   "execution_count": 104,
   "id": "6134043f",
   "metadata": {},
   "outputs": [],
   "source": [
    "d = dict()\n",
    "\n"
   ]
  },
  {
   "cell_type": "code",
   "execution_count": 105,
   "id": "15dff737",
   "metadata": {},
   "outputs": [
    {
     "name": "stdout",
     "output_type": "stream",
     "text": [
      "[500, 501, 508, 527, 692, 1000, 1080, 2058, 5120]\n"
     ]
    }
   ],
   "source": [
    "print(l)"
   ]
  },
  {
   "cell_type": "code",
   "execution_count": 106,
   "id": "54d2d78b",
   "metadata": {},
   "outputs": [],
   "source": [
    "d = {val: val% 10 for val in l}"
   ]
  },
  {
   "cell_type": "code",
   "execution_count": 107,
   "id": "2efc356f",
   "metadata": {},
   "outputs": [
    {
     "name": "stdout",
     "output_type": "stream",
     "text": [
      "{500: 0, 501: 1, 508: 8, 527: 7, 692: 2, 1000: 0, 1080: 0, 2058: 8, 5120: 0}\n"
     ]
    }
   ],
   "source": [
    "print(d)"
   ]
  },
  {
   "cell_type": "code",
   "execution_count": 108,
   "id": "fd38705e",
   "metadata": {},
   "outputs": [
    {
     "name": "stdout",
     "output_type": "stream",
     "text": [
      "0\n"
     ]
    }
   ],
   "source": [
    "print(d[1000])"
   ]
  },
  {
   "cell_type": "code",
   "execution_count": 109,
   "id": "f32d84d8",
   "metadata": {},
   "outputs": [
    {
     "ename": "KeyError",
     "evalue": "10",
     "output_type": "error",
     "traceback": [
      "\u001b[1;31m---------------------------------------------------------------------------\u001b[0m",
      "\u001b[1;31mKeyError\u001b[0m                                  Traceback (most recent call last)",
      "Input \u001b[1;32mIn [109]\u001b[0m, in \u001b[0;36m<cell line: 1>\u001b[1;34m()\u001b[0m\n\u001b[1;32m----> 1\u001b[0m \u001b[38;5;28mprint\u001b[39m(\u001b[43md\u001b[49m\u001b[43m[\u001b[49m\u001b[38;5;241;43m10\u001b[39;49m\u001b[43m]\u001b[49m)\n",
      "\u001b[1;31mKeyError\u001b[0m: 10"
     ]
    }
   ],
   "source": [
    "print(d[10])"
   ]
  },
  {
   "cell_type": "code",
   "execution_count": 110,
   "id": "4d231b6d",
   "metadata": {},
   "outputs": [],
   "source": [
    "d = {str(val): val% 10 for val in l}"
   ]
  },
  {
   "cell_type": "code",
   "execution_count": 111,
   "id": "56f3f23d",
   "metadata": {},
   "outputs": [
    {
     "name": "stdout",
     "output_type": "stream",
     "text": [
      "{'500': 0, '501': 1, '508': 8, '527': 7, '692': 2, '1000': 0, '1080': 0, '2058': 8, '5120': 0}\n"
     ]
    }
   ],
   "source": [
    "print(d)"
   ]
  },
  {
   "cell_type": "code",
   "execution_count": 112,
   "id": "be017204",
   "metadata": {},
   "outputs": [],
   "source": [
    "def calc_hist_dict(a):\n",
    "    a_vals = list(set(a))\n",
    "    a_hist = {v:0 for v in a_vals}\n",
    "    \n",
    "    for v in a:\n",
    "        a_hist[v] += 1\n",
    "    return a_hist"
   ]
  },
  {
   "cell_type": "code",
   "execution_count": 114,
   "id": "4d1ce277",
   "metadata": {},
   "outputs": [],
   "source": [
    "l2_hist_dict = calc_hist_dict(l2)"
   ]
  },
  {
   "cell_type": "code",
   "execution_count": 115,
   "id": "718b9e3c",
   "metadata": {},
   "outputs": [
    {
     "name": "stdout",
     "output_type": "stream",
     "text": [
      "{0: 15, 1: 15, 2: 14, 3: 14, 4: 14, 5: 14, 6: 14}\n"
     ]
    }
   ],
   "source": [
    "print(l2_hist_dict)"
   ]
  },
  {
   "cell_type": "code",
   "execution_count": null,
   "id": "06125c40",
   "metadata": {},
   "outputs": [],
   "source": []
  }
 ],
 "metadata": {
  "kernelspec": {
   "display_name": "Python 3 (ipykernel)",
   "language": "python",
   "name": "python3"
  },
  "language_info": {
   "codemirror_mode": {
    "name": "ipython",
    "version": 3
   },
   "file_extension": ".py",
   "mimetype": "text/x-python",
   "name": "python",
   "nbconvert_exporter": "python",
   "pygments_lexer": "ipython3",
   "version": "3.10.4"
  }
 },
 "nbformat": 4,
 "nbformat_minor": 5
}
