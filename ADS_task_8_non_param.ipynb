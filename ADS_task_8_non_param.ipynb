{
 "cells": [
  {
   "cell_type": "code",
   "execution_count": 21,
   "id": "02890c63",
   "metadata": {},
   "outputs": [],
   "source": [
    "import numpy as np\n",
    "import pandas as pd\n",
    "import matplotlib.pyplot as plt\n",
    "import math"
   ]
  },
  {
   "cell_type": "code",
   "execution_count": 6,
   "id": "02594260",
   "metadata": {},
   "outputs": [],
   "source": [
    "df = pd.read_csv(\"titanic.csv\")"
   ]
  },
  {
   "cell_type": "code",
   "execution_count": 7,
   "id": "491b03e7",
   "metadata": {},
   "outputs": [],
   "source": [
    "df.dropna(inplace=True)"
   ]
  },
  {
   "cell_type": "markdown",
   "id": "9de14ce2",
   "metadata": {},
   "source": [
    "Гипотеза о медиане"
   ]
  },
  {
   "cell_type": "code",
   "execution_count": 8,
   "id": "52129bc8",
   "metadata": {},
   "outputs": [],
   "source": [
    "test_data = df['Age'][:10]"
   ]
  },
  {
   "cell_type": "code",
   "execution_count": 9,
   "id": "0010011d",
   "metadata": {},
   "outputs": [
    {
     "data": {
      "text/plain": [
       "1     38.0\n",
       "3     35.0\n",
       "6     54.0\n",
       "10     4.0\n",
       "11    58.0\n",
       "21    34.0\n",
       "23    28.0\n",
       "27    19.0\n",
       "52    49.0\n",
       "54    65.0\n",
       "Name: Age, dtype: float64"
      ]
     },
     "execution_count": 9,
     "metadata": {},
     "output_type": "execute_result"
    }
   ],
   "source": [
    "test_data\n"
   ]
  },
  {
   "cell_type": "code",
   "execution_count": 16,
   "id": "a32ef5c4",
   "metadata": {},
   "outputs": [],
   "source": [
    "# H0 - M = 20\n",
    "# S-статистика\n",
    "M = 20"
   ]
  },
  {
   "cell_type": "code",
   "execution_count": 15,
   "id": "83ea4f0b",
   "metadata": {},
   "outputs": [
    {
     "data": {
      "text/plain": [
       "2"
      ]
     },
     "execution_count": 15,
     "metadata": {},
     "output_type": "execute_result"
    }
   ],
   "source": [
    "S = min(test_data[test_data>M].count(),test_data[test_data<M].count())\n",
    "S"
   ]
  },
  {
   "cell_type": "code",
   "execution_count": 14,
   "id": "584ae17b",
   "metadata": {},
   "outputs": [],
   "source": [
    "# по таблице alpha = 0.05\n",
    "# S_critical = 2\n",
    "# S = 2 < S_critical =2, гипотеза не отвергается"
   ]
  },
  {
   "cell_type": "markdown",
   "id": "9e2cbd8c",
   "metadata": {},
   "source": [
    "другой пример"
   ]
  },
  {
   "cell_type": "code",
   "execution_count": 17,
   "id": "050280d4",
   "metadata": {},
   "outputs": [],
   "source": [
    "test_data = df['Age'][40:80]"
   ]
  },
  {
   "cell_type": "code",
   "execution_count": 18,
   "id": "df8546e0",
   "metadata": {},
   "outputs": [
    {
     "data": {
      "text/plain": [
       "7"
      ]
     },
     "execution_count": 18,
     "metadata": {},
     "output_type": "execute_result"
    }
   ],
   "source": [
    "Sz = min(test_data[test_data>M].count(),test_data[test_data<M].count())\n",
    "Sz"
   ]
  },
  {
   "cell_type": "code",
   "execution_count": 22,
   "id": "ddbe6632",
   "metadata": {},
   "outputs": [
    {
     "data": {
      "text/plain": [
       "-3.952847075210474"
      ]
     },
     "execution_count": 22,
     "metadata": {},
     "output_type": "execute_result"
    }
   ],
   "source": [
    "# Z_critical(a/2 = 0.975) = 1.96\n",
    "Z = (2*Sz + 1 - test_data.count()) / math.sqrt(test_data.count())\n",
    "Z"
   ]
  },
  {
   "cell_type": "code",
   "execution_count": null,
   "id": "dfd9a240",
   "metadata": {},
   "outputs": [],
   "source": [
    "#Z = -3.95 <  Z_critical = -1.96, гипотеза отвергается"
   ]
  },
  {
   "cell_type": "markdown",
   "id": "1033473d",
   "metadata": {},
   "source": [
    "Однородность для двух выборок разного размера. Однородность"
   ]
  },
  {
   "cell_type": "code",
   "execution_count": 97,
   "id": "13da7d3d",
   "metadata": {},
   "outputs": [],
   "source": [
    "x = df['Age'][100:105]"
   ]
  },
  {
   "cell_type": "code",
   "execution_count": 98,
   "id": "9e659bbd",
   "metadata": {},
   "outputs": [
    {
     "data": {
      "text/plain": [
       "498    25.0\n",
       "504    16.0\n",
       "505    18.0\n",
       "512    36.0\n",
       "515    47.0\n",
       "Name: Age, dtype: float64"
      ]
     },
     "execution_count": 98,
     "metadata": {},
     "output_type": "execute_result"
    }
   ],
   "source": [
    "x"
   ]
  },
  {
   "cell_type": "code",
   "execution_count": 99,
   "id": "ded1fc25",
   "metadata": {},
   "outputs": [],
   "source": [
    "y = df['Age'][181:185]"
   ]
  },
  {
   "cell_type": "code",
   "execution_count": 100,
   "id": "ac488b35",
   "metadata": {},
   "outputs": [
    {
     "data": {
      "text/plain": [
       "887    19.0\n",
       "889    26.0\n",
       "Name: Age, dtype: float64"
      ]
     },
     "execution_count": 100,
     "metadata": {},
     "output_type": "execute_result"
    }
   ],
   "source": [
    "y"
   ]
  },
  {
   "cell_type": "code",
   "execution_count": 101,
   "id": "64fbaa60",
   "metadata": {},
   "outputs": [],
   "source": [
    "xy = pd.concat([x,y])"
   ]
  },
  {
   "cell_type": "code",
   "execution_count": 102,
   "id": "51718c87",
   "metadata": {},
   "outputs": [
    {
     "data": {
      "text/plain": [
       "498    25.0\n",
       "504    16.0\n",
       "505    18.0\n",
       "512    36.0\n",
       "515    47.0\n",
       "887    19.0\n",
       "889    26.0\n",
       "Name: Age, dtype: float64"
      ]
     },
     "execution_count": 102,
     "metadata": {},
     "output_type": "execute_result"
    }
   ],
   "source": [
    "xy"
   ]
  },
  {
   "cell_type": "code",
   "execution_count": 112,
   "id": "dc29c974",
   "metadata": {},
   "outputs": [],
   "source": [
    "rx = sum([xy[xy <= v].count() for v in x])"
   ]
  },
  {
   "cell_type": "code",
   "execution_count": 113,
   "id": "05bfa96b",
   "metadata": {},
   "outputs": [],
   "source": [
    "ry = sum([xy[xy <= v].count() for v in y])"
   ]
  },
  {
   "cell_type": "code",
   "execution_count": 114,
   "id": "7c9fccc1",
   "metadata": {},
   "outputs": [],
   "source": [
    "w = min(rx,ry)"
   ]
  },
  {
   "cell_type": "code",
   "execution_count": 115,
   "id": "7138acce",
   "metadata": {},
   "outputs": [
    {
     "data": {
      "text/plain": [
       "8"
      ]
     },
     "execution_count": 115,
     "metadata": {},
     "output_type": "execute_result"
    }
   ],
   "source": [
    "w"
   ]
  },
  {
   "cell_type": "code",
   "execution_count": null,
   "id": "86da0a0e",
   "metadata": {},
   "outputs": [],
   "source": [
    "# alpha = 0.05\n",
    "# W_critical = 1\n",
    "# W = 8 > W_critical = 1, гипотеза не отвергается"
   ]
  },
  {
   "cell_type": "markdown",
   "id": "ed7b948d",
   "metadata": {},
   "source": [
    "Коэффициент корреляции Спирмена"
   ]
  },
  {
   "cell_type": "code",
   "execution_count": 61,
   "id": "528ea20b",
   "metadata": {},
   "outputs": [
    {
     "data": {
      "text/plain": [
       "275    63.0\n",
       "291    19.0\n",
       "292    36.0\n",
       "297     2.0\n",
       "299    50.0\n",
       "Name: Age, dtype: float64"
      ]
     },
     "execution_count": 61,
     "metadata": {},
     "output_type": "execute_result"
    }
   ],
   "source": [
    "x = df['Age'][50:55]\n",
    "x"
   ]
  },
  {
   "cell_type": "code",
   "execution_count": 62,
   "id": "897c1d77",
   "metadata": {},
   "outputs": [
    {
     "data": {
      "text/plain": [
       "453    49.0\n",
       "456    65.0\n",
       "460    48.0\n",
       "462    47.0\n",
       "473    23.0\n",
       "Name: Age, dtype: float64"
      ]
     },
     "execution_count": 62,
     "metadata": {},
     "output_type": "execute_result"
    }
   ],
   "source": [
    "y = df['Age'][90:95]\n",
    "y"
   ]
  },
  {
   "cell_type": "code",
   "execution_count": 63,
   "id": "20000d06",
   "metadata": {},
   "outputs": [],
   "source": [
    "xy = pd.concat([x,y])"
   ]
  },
  {
   "cell_type": "code",
   "execution_count": 81,
   "id": "3a5cd14f",
   "metadata": {},
   "outputs": [],
   "source": [
    "rx = [x[x <= v].count() for v in x]"
   ]
  },
  {
   "cell_type": "code",
   "execution_count": 82,
   "id": "ac38ca3f",
   "metadata": {},
   "outputs": [],
   "source": [
    "ry = [y[y <= v].count() for v in y]"
   ]
  },
  {
   "cell_type": "code",
   "execution_count": 83,
   "id": "310e3443",
   "metadata": {},
   "outputs": [
    {
     "name": "stdout",
     "output_type": "stream",
     "text": [
      "[5, 2, 3, 1, 4] [4, 5, 3, 2, 1]\n"
     ]
    }
   ],
   "source": [
    "print(rx,ry)"
   ]
  },
  {
   "cell_type": "code",
   "execution_count": 84,
   "id": "63be420f",
   "metadata": {},
   "outputs": [],
   "source": [
    "d = pd.DataFrame(rx) - pd.DataFrame(ry)"
   ]
  },
  {
   "cell_type": "code",
   "execution_count": 85,
   "id": "42802aff",
   "metadata": {},
   "outputs": [
    {
     "data": {
      "text/html": [
       "<div>\n",
       "<style scoped>\n",
       "    .dataframe tbody tr th:only-of-type {\n",
       "        vertical-align: middle;\n",
       "    }\n",
       "\n",
       "    .dataframe tbody tr th {\n",
       "        vertical-align: top;\n",
       "    }\n",
       "\n",
       "    .dataframe thead th {\n",
       "        text-align: right;\n",
       "    }\n",
       "</style>\n",
       "<table border=\"1\" class=\"dataframe\">\n",
       "  <thead>\n",
       "    <tr style=\"text-align: right;\">\n",
       "      <th></th>\n",
       "      <th>0</th>\n",
       "    </tr>\n",
       "  </thead>\n",
       "  <tbody>\n",
       "    <tr>\n",
       "      <th>0</th>\n",
       "      <td>1</td>\n",
       "    </tr>\n",
       "    <tr>\n",
       "      <th>1</th>\n",
       "      <td>-3</td>\n",
       "    </tr>\n",
       "    <tr>\n",
       "      <th>2</th>\n",
       "      <td>0</td>\n",
       "    </tr>\n",
       "    <tr>\n",
       "      <th>3</th>\n",
       "      <td>-1</td>\n",
       "    </tr>\n",
       "    <tr>\n",
       "      <th>4</th>\n",
       "      <td>3</td>\n",
       "    </tr>\n",
       "  </tbody>\n",
       "</table>\n",
       "</div>"
      ],
      "text/plain": [
       "   0\n",
       "0  1\n",
       "1 -3\n",
       "2  0\n",
       "3 -1\n",
       "4  3"
      ]
     },
     "execution_count": 85,
     "metadata": {},
     "output_type": "execute_result"
    }
   ],
   "source": [
    "d"
   ]
  },
  {
   "cell_type": "code",
   "execution_count": 86,
   "id": "0a08116a",
   "metadata": {},
   "outputs": [
    {
     "data": {
      "text/html": [
       "<div>\n",
       "<style scoped>\n",
       "    .dataframe tbody tr th:only-of-type {\n",
       "        vertical-align: middle;\n",
       "    }\n",
       "\n",
       "    .dataframe tbody tr th {\n",
       "        vertical-align: top;\n",
       "    }\n",
       "\n",
       "    .dataframe thead th {\n",
       "        text-align: right;\n",
       "    }\n",
       "</style>\n",
       "<table border=\"1\" class=\"dataframe\">\n",
       "  <thead>\n",
       "    <tr style=\"text-align: right;\">\n",
       "      <th></th>\n",
       "      <th>0</th>\n",
       "    </tr>\n",
       "  </thead>\n",
       "  <tbody>\n",
       "    <tr>\n",
       "      <th>0</th>\n",
       "      <td>1</td>\n",
       "    </tr>\n",
       "    <tr>\n",
       "      <th>1</th>\n",
       "      <td>9</td>\n",
       "    </tr>\n",
       "    <tr>\n",
       "      <th>2</th>\n",
       "      <td>0</td>\n",
       "    </tr>\n",
       "    <tr>\n",
       "      <th>3</th>\n",
       "      <td>1</td>\n",
       "    </tr>\n",
       "    <tr>\n",
       "      <th>4</th>\n",
       "      <td>9</td>\n",
       "    </tr>\n",
       "  </tbody>\n",
       "</table>\n",
       "</div>"
      ],
      "text/plain": [
       "   0\n",
       "0  1\n",
       "1  9\n",
       "2  0\n",
       "3  1\n",
       "4  9"
      ]
     },
     "execution_count": 86,
     "metadata": {},
     "output_type": "execute_result"
    }
   ],
   "source": [
    "d2 = d**2\n",
    "d2"
   ]
  },
  {
   "cell_type": "code",
   "execution_count": 87,
   "id": "6fa5789f",
   "metadata": {},
   "outputs": [
    {
     "data": {
      "text/plain": [
       "0    5\n",
       "dtype: int64"
      ]
     },
     "execution_count": 87,
     "metadata": {},
     "output_type": "execute_result"
    }
   ],
   "source": [
    "n = d2.count()\n",
    "n"
   ]
  },
  {
   "cell_type": "code",
   "execution_count": 94,
   "id": "33b7fefe",
   "metadata": {},
   "outputs": [],
   "source": [
    "rs = 1.0 - 6.0/(n**3 - n)*d2.sum()"
   ]
  },
  {
   "cell_type": "code",
   "execution_count": 95,
   "id": "8e8af727",
   "metadata": {},
   "outputs": [
    {
     "data": {
      "text/plain": [
       "0    0.0\n",
       "dtype: float64"
      ]
     },
     "execution_count": 95,
     "metadata": {},
     "output_type": "execute_result"
    }
   ],
   "source": [
    "rs"
   ]
  },
  {
   "cell_type": "code",
   "execution_count": null,
   "id": "85a2c406",
   "metadata": {},
   "outputs": [],
   "source": [
    "# t = 0\n",
    "# alpha = 0.05\n",
    "# t = 0 < t_critical = 3.18 гипотеза о значимости отвергается (НЕ отвергается гипотеза о НЕЗНАЧИМОСТИ)"
   ]
  },
  {
   "cell_type": "code",
   "execution_count": null,
   "id": "18b2f056",
   "metadata": {},
   "outputs": [],
   "source": []
  }
 ],
 "metadata": {
  "kernelspec": {
   "display_name": "Python 3 (ipykernel)",
   "language": "python",
   "name": "python3"
  },
  "language_info": {
   "codemirror_mode": {
    "name": "ipython",
    "version": 3
   },
   "file_extension": ".py",
   "mimetype": "text/x-python",
   "name": "python",
   "nbconvert_exporter": "python",
   "pygments_lexer": "ipython3",
   "version": "3.10.4"
  }
 },
 "nbformat": 4,
 "nbformat_minor": 5
}
