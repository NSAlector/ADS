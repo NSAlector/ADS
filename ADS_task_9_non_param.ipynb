{
 "cells": [
  {
   "cell_type": "code",
   "execution_count": null,
   "id": "0fb47db3",
   "metadata": {},
   "outputs": [],
   "source": [
    "from sklearn.datasets import load_iris\n",
    "\n",
    "iris = load_iris()\n",
    "iris.feature_names"
   ]
  },
  {
   "cell_type": "code",
   "execution_count": null,
   "id": "30aca57a",
   "metadata": {},
   "outputs": [],
   "source": [
    "X = iris.data\n",
    "target_names = iris.target_names\n",
    "feature_names = iris.feature_names\n",
    "\n",
    "y = iris.target"
   ]
  },
  {
   "cell_type": "code",
   "execution_count": null,
   "id": "6ec04ca3",
   "metadata": {},
   "outputs": [],
   "source": [
    "X[:,0] #sepal length (cm)"
   ]
  },
  {
   "cell_type": "code",
   "execution_count": null,
   "id": "4f5f2fb0",
   "metadata": {},
   "outputs": [],
   "source": [
    "X[:,2] #petal length (cm)"
   ]
  },
  {
   "cell_type": "markdown",
   "id": "5f5824d5",
   "metadata": {},
   "source": [
    "# Task 1. Нахождение корреляции между признаками"
   ]
  },
  {
   "cell_type": "code",
   "execution_count": null,
   "id": "6aef2ffb",
   "metadata": {},
   "outputs": [],
   "source": [
    "import pandas as pd\n",
    "\n",
    "df = pd.DataFrame(X)"
   ]
  },
  {
   "cell_type": "code",
   "execution_count": null,
   "id": "5985e532",
   "metadata": {},
   "outputs": [],
   "source": [
    "# какой вывод можно сделать?\n",
    "# для дальнейших рассчетов выберите только значащие признаки."
   ]
  },
  {
   "cell_type": "markdown",
   "id": "73668ea7",
   "metadata": {},
   "source": [
    "# Task 2. Найдите матожидание и дисперсию каждого столбца"
   ]
  },
  {
   "attachments": {
    "image.png": {
     "image/png": "[encoded data removed]"
    }
   },
   "cell_type": "markdown",
   "id": "24a25e7e",
   "metadata": {},
   "source": [
    "# Task 3. Дисперсии неизвестны. Проверить гипотезу о равенстве мат ожиданий. alpha = 0.1. Дисперсии неизвестны и не предполагаются равными\n",
    "![image.png](attachment:image.png)"
   ]
  },
  {
   "cell_type": "code",
   "execution_count": null,
   "id": "1387681b",
   "metadata": {},
   "outputs": [],
   "source": [
    "df_1 = df[0][40:50]\n",
    "df_1"
   ]
  },
  {
   "cell_type": "code",
   "execution_count": null,
   "id": "d699be24",
   "metadata": {},
   "outputs": [],
   "source": [
    "df_2 = df[1][60:65]\n",
    "df_2"
   ]
  },
  {
   "cell_type": "markdown",
   "id": "869a1f0c",
   "metadata": {},
   "source": [
    "# Task 4.Проверить равенство долей признаков по каждому столбцу. Признак: значение > 5 по первому столбцу, значение > 3.4. alpha = 0.1"
   ]
  },
  {
   "cell_type": "code",
   "execution_count": null,
   "id": "cd6a509a",
   "metadata": {},
   "outputs": [],
   "source": [
    "df_1 = df[0][:10]\n",
    "df_1"
   ]
  },
  {
   "cell_type": "code",
   "execution_count": null,
   "id": "4d8722ce",
   "metadata": {},
   "outputs": [],
   "source": [
    "df_2 = df[1][20:35]\n",
    "df_2"
   ]
  },
  {
   "cell_type": "markdown",
   "id": "b5bae097",
   "metadata": {},
   "source": [
    "# Task 5. Проверить гипотезу о равенстве дисперсии первого столбца 0.5.alpha = 0.05."
   ]
  },
  {
   "cell_type": "markdown",
   "id": "d6d9e04a",
   "metadata": {},
   "source": [
    "# Task 6. Построить линейную регрессионную модель для предсказания значения 1го столбца по 0-му. Предсказать значение для validation выборки. Вывести коэффициенты регрессии"
   ]
  },
  {
   "cell_type": "code",
   "execution_count": null,
   "id": "1e22fe58",
   "metadata": {},
   "outputs": [],
   "source": [
    "X = iris.data[:,:2]"
   ]
  },
  {
   "cell_type": "code",
   "execution_count": null,
   "id": "fd8e0ede",
   "metadata": {},
   "outputs": [],
   "source": [
    "from sklearn.model_selection import train_test_split\n",
    "\n",
    "x_train, x_val, y_train, y_val = train_test_split(X[:,0], X[:,1], train_size=0.8, test_size=0.2, random_state=1)\n",
    "x_train = x_train.reshape(-1,1)\n",
    "x_val = x_val.reshape(-1,1)\n",
    "y_train = y_train.reshape(-1,1)\n",
    "y_val = y_val.reshape(-1,1)"
   ]
  },
  {
   "cell_type": "code",
   "execution_count": null,
   "id": "48a2ea8f",
   "metadata": {},
   "outputs": [],
   "source": [
    "from sklearn.linear_model import LinearRegression\n",
    "from sklearn.metrics import mean_squared_error"
   ]
  },
  {
   "cell_type": "code",
   "execution_count": null,
   "id": "122be275",
   "metadata": {},
   "outputs": [],
   "source": [
    "lr = LinearRegression()\n"
   ]
  }
 ],
 "metadata": {
  "kernelspec": {
   "display_name": "Python 3 (ipykernel)",
   "language": "python",
   "name": "python3"
  },
  "language_info": {
   "codemirror_mode": {
    "name": "ipython",
    "version": 3
   },
   "file_extension": ".py",
   "mimetype": "text/x-python",
   "name": "python",
   "nbconvert_exporter": "python",
   "pygments_lexer": "ipython3",
   "version": "3.10.4"
  }
 },
 "nbformat": 4,
 "nbformat_minor": 5
}
